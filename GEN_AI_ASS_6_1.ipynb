{
  "nbformat": 4,
  "nbformat_minor": 0,
  "metadata": {
    "colab": {
      "provenance": [],
      "authorship_tag": "ABX9TyO0Wuobe+9Zvw6ITje6noiO",
      "include_colab_link": true
    },
    "kernelspec": {
      "name": "python3",
      "display_name": "Python 3"
    },
    "language_info": {
      "name": "python"
    }
  },
  "cells": [
    {
      "cell_type": "markdown",
      "metadata": {
        "id": "view-in-github",
        "colab_type": "text"
      },
      "source": [
        "<a href=\"https://colab.research.google.com/github/vishnuvardhan07246/GENERATIVE-AI/blob/main/GEN_AI_ASS_6_1.ipynb\" target=\"_parent\"><img src=\"https://colab.research.google.com/assets/colab-badge.svg\" alt=\"Open In Colab\"/></a>"
      ]
    },
    {
      "cell_type": "code",
      "execution_count": null,
      "metadata": {
        "id": "AH0w-79Hg2DT"
      },
      "outputs": [],
      "source": [
        "import numpy as np\n",
        "import pandas as pd\n",
        "from sklearn.model_selection import train_test_split\n",
        "from sklearn.preprocessing import StandardScaler\n",
        "from keras.models import Sequential\n",
        "from keras.layers import Dense\n",
        "from keras.optimizers import SGD\n",
        "from keras.metrics import MeanSquaredError"
      ]
    },
    {
      "cell_type": "code",
      "source": [
        "url = \"/content/Housing.csv\"\n",
        "data = pd.read_csv(url)\n",
        "\n",
        "X = data.drop('price', axis=1)\n",
        "y = data['price']\n",
        "\n",
        "X = pd.get_dummies(X, columns=['mainroad', 'guestroom', 'basement', 'hotwaterheating', 'airconditioning', 'prefarea', 'furnishingstatus'], drop_first=True)\n",
        "\n",
        "X_train, X_test, y_train, y_test = train_test_split(X, y, test_size=0.2, random_state=42)\n",
        "\n",
        "scaler = StandardScaler()\n",
        "numerical_features = X_train.select_dtypes(include=['number']).columns\n",
        "X_train[numerical_features] = scaler.fit_transform(X_train[numerical_features])\n",
        "X_test[numerical_features] = scaler.transform(X_test[numerical_features])"
      ],
      "metadata": {
        "id": "0y8wjYqtg_wx"
      },
      "execution_count": 16,
      "outputs": []
    },
    {
      "cell_type": "code",
      "source": [
        "model = Sequential()\n",
        "\n",
        "model.add(Dense(units=15, activation='tanh', input_dim=X_train.shape[1]))\n",
        "\n",
        "\n",
        "model.add(Dense(units=20, activation='tanh'))\n",
        "\n",
        "model.add(Dense(units=15, activation='tanh'))\n",
        "\n",
        "model.add(Dense(units=1))\n",
        "\n",
        "optimizer = SGD(learning_rate=0.01)\n",
        "model.compile(optimizer=optimizer, loss='mean_squared_error', metrics=[MeanSquaredError()])"
      ],
      "metadata": {
        "colab": {
          "base_uri": "https://localhost:8080/"
        },
        "id": "s7pCAWxThKzh",
        "outputId": "08c2a8fe-498c-47bc-c4a0-8a59ca3aeab0"
      },
      "execution_count": 17,
      "outputs": [
        {
          "output_type": "stream",
          "name": "stderr",
          "text": [
            "/usr/local/lib/python3.11/dist-packages/keras/src/layers/core/dense.py:87: UserWarning: Do not pass an `input_shape`/`input_dim` argument to a layer. When using Sequential models, prefer using an `Input(shape)` object as the first layer in the model instead.\n",
            "  super().__init__(activity_regularizer=activity_regularizer, **kwargs)\n"
          ]
        }
      ]
    },
    {
      "cell_type": "code",
      "source": [
        "history = model.fit(X_train, y_train, epochs=100, batch_size=16, validation_split=0.2)"
      ],
      "metadata": {
        "colab": {
          "base_uri": "https://localhost:8080/"
        },
        "id": "tNf6nmVmhXYp",
        "outputId": "d95d574b-b6ac-45d3-b4a6-7848ead52c74"
      },
      "execution_count": 11,
      "outputs": [
        {
          "output_type": "stream",
          "name": "stdout",
          "text": [
            "Epoch 1/100\n",
            "\u001b[1m22/22\u001b[0m \u001b[32m━━━━━━━━━━━━━━━━━━━━\u001b[0m\u001b[37m\u001b[0m \u001b[1m1s\u001b[0m 19ms/step - loss: 9963005018112.0000 - mean_squared_error: 9963005018112.0000 - val_loss: 3432102494208.0000 - val_mean_squared_error: 3432102494208.0000\n",
            "Epoch 2/100\n",
            "\u001b[1m22/22\u001b[0m \u001b[32m━━━━━━━━━━━━━━━━━━━━\u001b[0m\u001b[37m\u001b[0m \u001b[1m0s\u001b[0m 6ms/step - loss: 2601592815616.0000 - mean_squared_error: 2601592815616.0000 - val_loss: 3433322250240.0000 - val_mean_squared_error: 3433322250240.0000\n",
            "Epoch 3/100\n",
            "\u001b[1m22/22\u001b[0m \u001b[32m━━━━━━━━━━━━━━━━━━━━\u001b[0m\u001b[37m\u001b[0m \u001b[1m0s\u001b[0m 5ms/step - loss: 2627717300224.0000 - mean_squared_error: 2627717300224.0000 - val_loss: 3513182322688.0000 - val_mean_squared_error: 3513182322688.0000\n",
            "Epoch 4/100\n",
            "\u001b[1m22/22\u001b[0m \u001b[32m━━━━━━━━━━━━━━━━━━━━\u001b[0m\u001b[37m\u001b[0m \u001b[1m0s\u001b[0m 6ms/step - loss: 3404129370112.0000 - mean_squared_error: 3404129370112.0000 - val_loss: 3428634066944.0000 - val_mean_squared_error: 3428634066944.0000\n",
            "Epoch 5/100\n",
            "\u001b[1m22/22\u001b[0m \u001b[32m━━━━━━━━━━━━━━━━━━━━\u001b[0m\u001b[37m\u001b[0m \u001b[1m0s\u001b[0m 7ms/step - loss: 2695091191808.0000 - mean_squared_error: 2695091191808.0000 - val_loss: 3785994534912.0000 - val_mean_squared_error: 3785994534912.0000\n",
            "Epoch 6/100\n",
            "\u001b[1m22/22\u001b[0m \u001b[32m━━━━━━━━━━━━━━━━━━━━\u001b[0m\u001b[37m\u001b[0m \u001b[1m0s\u001b[0m 5ms/step - loss: 2843896709120.0000 - mean_squared_error: 2843896709120.0000 - val_loss: 3401183920128.0000 - val_mean_squared_error: 3401183920128.0000\n",
            "Epoch 7/100\n",
            "\u001b[1m22/22\u001b[0m \u001b[32m━━━━━━━━━━━━━━━━━━━━\u001b[0m\u001b[37m\u001b[0m \u001b[1m0s\u001b[0m 5ms/step - loss: 2831493890048.0000 - mean_squared_error: 2831493890048.0000 - val_loss: 3570091687936.0000 - val_mean_squared_error: 3570091687936.0000\n",
            "Epoch 8/100\n",
            "\u001b[1m22/22\u001b[0m \u001b[32m━━━━━━━━━━━━━━━━━━━━\u001b[0m\u001b[37m\u001b[0m \u001b[1m0s\u001b[0m 5ms/step - loss: 2730972676096.0000 - mean_squared_error: 2730972676096.0000 - val_loss: 3501525565440.0000 - val_mean_squared_error: 3501525565440.0000\n",
            "Epoch 9/100\n",
            "\u001b[1m22/22\u001b[0m \u001b[32m━━━━━━━━━━━━━━━━━━━━\u001b[0m\u001b[37m\u001b[0m \u001b[1m0s\u001b[0m 5ms/step - loss: 3023925149696.0000 - mean_squared_error: 3023925149696.0000 - val_loss: 3441075683328.0000 - val_mean_squared_error: 3441075683328.0000\n",
            "Epoch 10/100\n",
            "\u001b[1m22/22\u001b[0m \u001b[32m━━━━━━━━━━━━━━━━━━━━\u001b[0m\u001b[37m\u001b[0m \u001b[1m0s\u001b[0m 5ms/step - loss: 2883172433920.0000 - mean_squared_error: 2883172433920.0000 - val_loss: 3768175296512.0000 - val_mean_squared_error: 3768175296512.0000\n",
            "Epoch 11/100\n",
            "\u001b[1m22/22\u001b[0m \u001b[32m━━━━━━━━━━━━━━━━━━━━\u001b[0m\u001b[37m\u001b[0m \u001b[1m0s\u001b[0m 6ms/step - loss: 3346277597184.0000 - mean_squared_error: 3346277597184.0000 - val_loss: 3415769612288.0000 - val_mean_squared_error: 3415769612288.0000\n",
            "Epoch 12/100\n",
            "\u001b[1m22/22\u001b[0m \u001b[32m━━━━━━━━━━━━━━━━━━━━\u001b[0m\u001b[37m\u001b[0m \u001b[1m0s\u001b[0m 5ms/step - loss: 2885838962688.0000 - mean_squared_error: 2885838962688.0000 - val_loss: 3488654557184.0000 - val_mean_squared_error: 3488654557184.0000\n",
            "Epoch 13/100\n",
            "\u001b[1m22/22\u001b[0m \u001b[32m━━━━━━━━━━━━━━━━━━━━\u001b[0m\u001b[37m\u001b[0m \u001b[1m0s\u001b[0m 5ms/step - loss: 2489397280768.0000 - mean_squared_error: 2489397280768.0000 - val_loss: 3501222789120.0000 - val_mean_squared_error: 3501222789120.0000\n",
            "Epoch 14/100\n",
            "\u001b[1m22/22\u001b[0m \u001b[32m━━━━━━━━━━━━━━━━━━━━\u001b[0m\u001b[37m\u001b[0m \u001b[1m0s\u001b[0m 10ms/step - loss: 2435170435072.0000 - mean_squared_error: 2435170435072.0000 - val_loss: 3502552645632.0000 - val_mean_squared_error: 3502552645632.0000\n",
            "Epoch 15/100\n",
            "\u001b[1m22/22\u001b[0m \u001b[32m━━━━━━━━━━━━━━━━━━━━\u001b[0m\u001b[37m\u001b[0m \u001b[1m0s\u001b[0m 11ms/step - loss: 2754819391488.0000 - mean_squared_error: 2754819391488.0000 - val_loss: 3458801860608.0000 - val_mean_squared_error: 3458801860608.0000\n",
            "Epoch 16/100\n",
            "\u001b[1m22/22\u001b[0m \u001b[32m━━━━━━━━━━━━━━━━━━━━\u001b[0m\u001b[37m\u001b[0m \u001b[1m0s\u001b[0m 9ms/step - loss: 2874198720512.0000 - mean_squared_error: 2874198720512.0000 - val_loss: 3404072747008.0000 - val_mean_squared_error: 3404072747008.0000\n",
            "Epoch 17/100\n",
            "\u001b[1m22/22\u001b[0m \u001b[32m━━━━━━━━━━━━━━━━━━━━\u001b[0m\u001b[37m\u001b[0m \u001b[1m0s\u001b[0m 9ms/step - loss: 3072719323136.0000 - mean_squared_error: 3072719323136.0000 - val_loss: 3401179725824.0000 - val_mean_squared_error: 3401179725824.0000\n",
            "Epoch 18/100\n",
            "\u001b[1m22/22\u001b[0m \u001b[32m━━━━━━━━━━━━━━━━━━━━\u001b[0m\u001b[37m\u001b[0m \u001b[1m0s\u001b[0m 9ms/step - loss: 2797804191744.0000 - mean_squared_error: 2797804191744.0000 - val_loss: 3444618559488.0000 - val_mean_squared_error: 3444618559488.0000\n",
            "Epoch 19/100\n",
            "\u001b[1m22/22\u001b[0m \u001b[32m━━━━━━━━━━━━━━━━━━━━\u001b[0m\u001b[37m\u001b[0m \u001b[1m0s\u001b[0m 9ms/step - loss: 2768289923072.0000 - mean_squared_error: 2768289923072.0000 - val_loss: 3474137546752.0000 - val_mean_squared_error: 3474137546752.0000\n",
            "Epoch 20/100\n",
            "\u001b[1m22/22\u001b[0m \u001b[32m━━━━━━━━━━━━━━━━━━━━\u001b[0m\u001b[37m\u001b[0m \u001b[1m0s\u001b[0m 9ms/step - loss: 2994815631360.0000 - mean_squared_error: 2994815631360.0000 - val_loss: 3430383878144.0000 - val_mean_squared_error: 3430383878144.0000\n",
            "Epoch 21/100\n",
            "\u001b[1m22/22\u001b[0m \u001b[32m━━━━━━━━━━━━━━━━━━━━\u001b[0m\u001b[37m\u001b[0m \u001b[1m0s\u001b[0m 9ms/step - loss: 3419221262336.0000 - mean_squared_error: 3419221262336.0000 - val_loss: 3417936756736.0000 - val_mean_squared_error: 3417936756736.0000\n",
            "Epoch 22/100\n",
            "\u001b[1m22/22\u001b[0m \u001b[32m━━━━━━━━━━━━━━━━━━━━\u001b[0m\u001b[37m\u001b[0m \u001b[1m0s\u001b[0m 7ms/step - loss: 3084077498368.0000 - mean_squared_error: 3084077498368.0000 - val_loss: 3419956051968.0000 - val_mean_squared_error: 3419956051968.0000\n",
            "Epoch 23/100\n",
            "\u001b[1m22/22\u001b[0m \u001b[32m━━━━━━━━━━━━━━━━━━━━\u001b[0m\u001b[37m\u001b[0m \u001b[1m0s\u001b[0m 7ms/step - loss: 3065505906688.0000 - mean_squared_error: 3065505906688.0000 - val_loss: 3402015178752.0000 - val_mean_squared_error: 3402015178752.0000\n",
            "Epoch 24/100\n",
            "\u001b[1m22/22\u001b[0m \u001b[32m━━━━━━━━━━━━━━━━━━━━\u001b[0m\u001b[37m\u001b[0m \u001b[1m0s\u001b[0m 6ms/step - loss: 2801481547776.0000 - mean_squared_error: 2801481547776.0000 - val_loss: 3418785316864.0000 - val_mean_squared_error: 3418785316864.0000\n",
            "Epoch 25/100\n",
            "\u001b[1m22/22\u001b[0m \u001b[32m━━━━━━━━━━━━━━━━━━━━\u001b[0m\u001b[37m\u001b[0m \u001b[1m0s\u001b[0m 6ms/step - loss: 3002578239488.0000 - mean_squared_error: 3002578239488.0000 - val_loss: 3479554490368.0000 - val_mean_squared_error: 3479554490368.0000\n",
            "Epoch 26/100\n",
            "\u001b[1m22/22\u001b[0m \u001b[32m━━━━━━━━━━━━━━━━━━━━\u001b[0m\u001b[37m\u001b[0m \u001b[1m0s\u001b[0m 6ms/step - loss: 3136221347840.0000 - mean_squared_error: 3136221347840.0000 - val_loss: 3499201134592.0000 - val_mean_squared_error: 3499201134592.0000\n",
            "Epoch 27/100\n",
            "\u001b[1m22/22\u001b[0m \u001b[32m━━━━━━━━━━━━━━━━━━━━\u001b[0m\u001b[37m\u001b[0m \u001b[1m0s\u001b[0m 6ms/step - loss: 3687619756032.0000 - mean_squared_error: 3687619756032.0000 - val_loss: 3402968596480.0000 - val_mean_squared_error: 3402968596480.0000\n",
            "Epoch 28/100\n",
            "\u001b[1m22/22\u001b[0m \u001b[32m━━━━━━━━━━━━━━━━━━━━\u001b[0m\u001b[37m\u001b[0m \u001b[1m0s\u001b[0m 5ms/step - loss: 2582207528960.0000 - mean_squared_error: 2582207528960.0000 - val_loss: 3691868585984.0000 - val_mean_squared_error: 3691868585984.0000\n",
            "Epoch 29/100\n",
            "\u001b[1m22/22\u001b[0m \u001b[32m━━━━━━━━━━━━━━━━━━━━\u001b[0m\u001b[37m\u001b[0m \u001b[1m0s\u001b[0m 6ms/step - loss: 3103954042880.0000 - mean_squared_error: 3103954042880.0000 - val_loss: 3407700295680.0000 - val_mean_squared_error: 3407700295680.0000\n",
            "Epoch 30/100\n",
            "\u001b[1m22/22\u001b[0m \u001b[32m━━━━━━━━━━━━━━━━━━━━\u001b[0m\u001b[37m\u001b[0m \u001b[1m0s\u001b[0m 6ms/step - loss: 2859166859264.0000 - mean_squared_error: 2859166859264.0000 - val_loss: 3447624040448.0000 - val_mean_squared_error: 3447624040448.0000\n",
            "Epoch 31/100\n",
            "\u001b[1m22/22\u001b[0m \u001b[32m━━━━━━━━━━━━━━━━━━━━\u001b[0m\u001b[37m\u001b[0m \u001b[1m0s\u001b[0m 6ms/step - loss: 3636556988416.0000 - mean_squared_error: 3636556988416.0000 - val_loss: 3448257380352.0000 - val_mean_squared_error: 3448257380352.0000\n",
            "Epoch 32/100\n",
            "\u001b[1m22/22\u001b[0m \u001b[32m━━━━━━━━━━━━━━━━━━━━\u001b[0m\u001b[37m\u001b[0m \u001b[1m0s\u001b[0m 5ms/step - loss: 2554650427392.0000 - mean_squared_error: 2554650427392.0000 - val_loss: 3415723999232.0000 - val_mean_squared_error: 3415723999232.0000\n",
            "Epoch 33/100\n",
            "\u001b[1m22/22\u001b[0m \u001b[32m━━━━━━━━━━━━━━━━━━━━\u001b[0m\u001b[37m\u001b[0m \u001b[1m0s\u001b[0m 7ms/step - loss: 2993157832704.0000 - mean_squared_error: 2993157832704.0000 - val_loss: 3402540777472.0000 - val_mean_squared_error: 3402540777472.0000\n",
            "Epoch 34/100\n",
            "\u001b[1m22/22\u001b[0m \u001b[32m━━━━━━━━━━━━━━━━━━━━\u001b[0m\u001b[37m\u001b[0m \u001b[1m0s\u001b[0m 5ms/step - loss: 3425970946048.0000 - mean_squared_error: 3425970946048.0000 - val_loss: 3442896797696.0000 - val_mean_squared_error: 3442896797696.0000\n",
            "Epoch 35/100\n",
            "\u001b[1m22/22\u001b[0m \u001b[32m━━━━━━━━━━━━━━━━━━━━\u001b[0m\u001b[37m\u001b[0m \u001b[1m0s\u001b[0m 5ms/step - loss: 3119790948352.0000 - mean_squared_error: 3119790948352.0000 - val_loss: 3402827825152.0000 - val_mean_squared_error: 3402827825152.0000\n",
            "Epoch 36/100\n",
            "\u001b[1m22/22\u001b[0m \u001b[32m━━━━━━━━━━━━━━━━━━━━\u001b[0m\u001b[37m\u001b[0m \u001b[1m0s\u001b[0m 5ms/step - loss: 2925115736064.0000 - mean_squared_error: 2925115736064.0000 - val_loss: 3475192152064.0000 - val_mean_squared_error: 3475192152064.0000\n",
            "Epoch 37/100\n",
            "\u001b[1m22/22\u001b[0m \u001b[32m━━━━━━━━━━━━━━━━━━━━\u001b[0m\u001b[37m\u001b[0m \u001b[1m0s\u001b[0m 5ms/step - loss: 2593427292160.0000 - mean_squared_error: 2593427292160.0000 - val_loss: 3433475866624.0000 - val_mean_squared_error: 3433475866624.0000\n",
            "Epoch 38/100\n",
            "\u001b[1m22/22\u001b[0m \u001b[32m━━━━━━━━━━━━━━━━━━━━\u001b[0m\u001b[37m\u001b[0m \u001b[1m0s\u001b[0m 7ms/step - loss: 2763870961664.0000 - mean_squared_error: 2763870961664.0000 - val_loss: 3501786398720.0000 - val_mean_squared_error: 3501786398720.0000\n",
            "Epoch 39/100\n",
            "\u001b[1m22/22\u001b[0m \u001b[32m━━━━━━━━━━━━━━━━━━━━\u001b[0m\u001b[37m\u001b[0m \u001b[1m0s\u001b[0m 5ms/step - loss: 2860711936000.0000 - mean_squared_error: 2860711936000.0000 - val_loss: 3401919234048.0000 - val_mean_squared_error: 3401919234048.0000\n",
            "Epoch 40/100\n",
            "\u001b[1m22/22\u001b[0m \u001b[32m━━━━━━━━━━━━━━━━━━━━\u001b[0m\u001b[37m\u001b[0m \u001b[1m0s\u001b[0m 7ms/step - loss: 2804200767488.0000 - mean_squared_error: 2804200767488.0000 - val_loss: 3450009812992.0000 - val_mean_squared_error: 3450009812992.0000\n",
            "Epoch 41/100\n",
            "\u001b[1m22/22\u001b[0m \u001b[32m━━━━━━━━━━━━━━━━━━━━\u001b[0m\u001b[37m\u001b[0m \u001b[1m0s\u001b[0m 6ms/step - loss: 2634227122176.0000 - mean_squared_error: 2634227122176.0000 - val_loss: 3467055464448.0000 - val_mean_squared_error: 3467055464448.0000\n",
            "Epoch 42/100\n",
            "\u001b[1m22/22\u001b[0m \u001b[32m━━━━━━━━━━━━━━━━━━━━\u001b[0m\u001b[37m\u001b[0m \u001b[1m0s\u001b[0m 6ms/step - loss: 3148103024640.0000 - mean_squared_error: 3148103024640.0000 - val_loss: 3438230110208.0000 - val_mean_squared_error: 3438230110208.0000\n",
            "Epoch 43/100\n",
            "\u001b[1m22/22\u001b[0m \u001b[32m━━━━━━━━━━━━━━━━━━━━\u001b[0m\u001b[37m\u001b[0m \u001b[1m0s\u001b[0m 6ms/step - loss: 2968866258944.0000 - mean_squared_error: 2968866258944.0000 - val_loss: 3409855643648.0000 - val_mean_squared_error: 3409855643648.0000\n",
            "Epoch 44/100\n",
            "\u001b[1m22/22\u001b[0m \u001b[32m━━━━━━━━━━━━━━━━━━━━\u001b[0m\u001b[37m\u001b[0m \u001b[1m0s\u001b[0m 7ms/step - loss: 2934389080064.0000 - mean_squared_error: 2934389080064.0000 - val_loss: 3469449625600.0000 - val_mean_squared_error: 3469449625600.0000\n",
            "Epoch 45/100\n",
            "\u001b[1m22/22\u001b[0m \u001b[32m━━━━━━━━━━━━━━━━━━━━\u001b[0m\u001b[37m\u001b[0m \u001b[1m0s\u001b[0m 6ms/step - loss: 2478115651584.0000 - mean_squared_error: 2478115651584.0000 - val_loss: 3435431198720.0000 - val_mean_squared_error: 3435431198720.0000\n",
            "Epoch 46/100\n",
            "\u001b[1m22/22\u001b[0m \u001b[32m━━━━━━━━━━━━━━━━━━━━\u001b[0m\u001b[37m\u001b[0m \u001b[1m0s\u001b[0m 7ms/step - loss: 2895859417088.0000 - mean_squared_error: 2895859417088.0000 - val_loss: 3482849640448.0000 - val_mean_squared_error: 3482849640448.0000\n",
            "Epoch 47/100\n",
            "\u001b[1m22/22\u001b[0m \u001b[32m━━━━━━━━━━━━━━━━━━━━\u001b[0m\u001b[37m\u001b[0m \u001b[1m0s\u001b[0m 6ms/step - loss: 3291997798400.0000 - mean_squared_error: 3291997798400.0000 - val_loss: 3408071491584.0000 - val_mean_squared_error: 3408071491584.0000\n",
            "Epoch 48/100\n",
            "\u001b[1m22/22\u001b[0m \u001b[32m━━━━━━━━━━━━━━━━━━━━\u001b[0m\u001b[37m\u001b[0m \u001b[1m0s\u001b[0m 5ms/step - loss: 3080187281408.0000 - mean_squared_error: 3080187281408.0000 - val_loss: 3405382156288.0000 - val_mean_squared_error: 3405382156288.0000\n",
            "Epoch 49/100\n",
            "\u001b[1m22/22\u001b[0m \u001b[32m━━━━━━━━━━━━━━━━━━━━\u001b[0m\u001b[37m\u001b[0m \u001b[1m0s\u001b[0m 5ms/step - loss: 3067226619904.0000 - mean_squared_error: 3067226619904.0000 - val_loss: 3401358508032.0000 - val_mean_squared_error: 3401358508032.0000\n",
            "Epoch 50/100\n",
            "\u001b[1m22/22\u001b[0m \u001b[32m━━━━━━━━━━━━━━━━━━━━\u001b[0m\u001b[37m\u001b[0m \u001b[1m0s\u001b[0m 5ms/step - loss: 3017006383104.0000 - mean_squared_error: 3017006383104.0000 - val_loss: 3428388962304.0000 - val_mean_squared_error: 3428388962304.0000\n",
            "Epoch 51/100\n",
            "\u001b[1m22/22\u001b[0m \u001b[32m━━━━━━━━━━━━━━━━━━━━\u001b[0m\u001b[37m\u001b[0m \u001b[1m0s\u001b[0m 6ms/step - loss: 3389310107648.0000 - mean_squared_error: 3389310107648.0000 - val_loss: 3414125445120.0000 - val_mean_squared_error: 3414125445120.0000\n",
            "Epoch 52/100\n",
            "\u001b[1m22/22\u001b[0m \u001b[32m━━━━━━━━━━━━━━━━━━━━\u001b[0m\u001b[37m\u001b[0m \u001b[1m0s\u001b[0m 7ms/step - loss: 3139334045696.0000 - mean_squared_error: 3139334045696.0000 - val_loss: 3459653304320.0000 - val_mean_squared_error: 3459653304320.0000\n",
            "Epoch 53/100\n",
            "\u001b[1m22/22\u001b[0m \u001b[32m━━━━━━━━━━━━━━━━━━━━\u001b[0m\u001b[37m\u001b[0m \u001b[1m0s\u001b[0m 13ms/step - loss: 2959467610112.0000 - mean_squared_error: 2959467610112.0000 - val_loss: 3409003675648.0000 - val_mean_squared_error: 3409003675648.0000\n",
            "Epoch 54/100\n",
            "\u001b[1m22/22\u001b[0m \u001b[32m━━━━━━━━━━━━━━━━━━━━\u001b[0m\u001b[37m\u001b[0m \u001b[1m1s\u001b[0m 15ms/step - loss: 2919876263936.0000 - mean_squared_error: 2919876263936.0000 - val_loss: 3403485806592.0000 - val_mean_squared_error: 3403485806592.0000\n",
            "Epoch 55/100\n",
            "\u001b[1m22/22\u001b[0m \u001b[32m━━━━━━━━━━━━━━━━━━━━\u001b[0m\u001b[37m\u001b[0m \u001b[1m0s\u001b[0m 11ms/step - loss: 2969637224448.0000 - mean_squared_error: 2969637224448.0000 - val_loss: 3450597801984.0000 - val_mean_squared_error: 3450597801984.0000\n",
            "Epoch 56/100\n",
            "\u001b[1m22/22\u001b[0m \u001b[32m━━━━━━━━━━━━━━━━━━━━\u001b[0m\u001b[37m\u001b[0m \u001b[1m0s\u001b[0m 9ms/step - loss: 3042265792512.0000 - mean_squared_error: 3042265792512.0000 - val_loss: 3406827356160.0000 - val_mean_squared_error: 3406827356160.0000\n",
            "Epoch 57/100\n",
            "\u001b[1m22/22\u001b[0m \u001b[32m━━━━━━━━━━━━━━━━━━━━\u001b[0m\u001b[37m\u001b[0m \u001b[1m0s\u001b[0m 16ms/step - loss: 3058303762432.0000 - mean_squared_error: 3058303762432.0000 - val_loss: 3402352558080.0000 - val_mean_squared_error: 3402352558080.0000\n",
            "Epoch 58/100\n",
            "\u001b[1m22/22\u001b[0m \u001b[32m━━━━━━━━━━━━━━━━━━━━\u001b[0m\u001b[37m\u001b[0m \u001b[1m0s\u001b[0m 10ms/step - loss: 2520368021504.0000 - mean_squared_error: 2520368021504.0000 - val_loss: 3446810083328.0000 - val_mean_squared_error: 3446810083328.0000\n",
            "Epoch 59/100\n",
            "\u001b[1m22/22\u001b[0m \u001b[32m━━━━━━━━━━━━━━━━━━━━\u001b[0m\u001b[37m\u001b[0m \u001b[1m0s\u001b[0m 18ms/step - loss: 2459397521408.0000 - mean_squared_error: 2459397521408.0000 - val_loss: 3419859320832.0000 - val_mean_squared_error: 3419859320832.0000\n",
            "Epoch 60/100\n",
            "\u001b[1m22/22\u001b[0m \u001b[32m━━━━━━━━━━━━━━━━━━━━\u001b[0m\u001b[37m\u001b[0m \u001b[1m1s\u001b[0m 24ms/step - loss: 2621066706944.0000 - mean_squared_error: 2621066706944.0000 - val_loss: 3424731267072.0000 - val_mean_squared_error: 3424731267072.0000\n",
            "Epoch 61/100\n",
            "\u001b[1m22/22\u001b[0m \u001b[32m━━━━━━━━━━━━━━━━━━━━\u001b[0m\u001b[37m\u001b[0m \u001b[1m1s\u001b[0m 22ms/step - loss: 3107651584000.0000 - mean_squared_error: 3107651584000.0000 - val_loss: 3401394946048.0000 - val_mean_squared_error: 3401394946048.0000\n",
            "Epoch 62/100\n",
            "\u001b[1m22/22\u001b[0m \u001b[32m━━━━━━━━━━━━━━━━━━━━\u001b[0m\u001b[37m\u001b[0m \u001b[1m1s\u001b[0m 27ms/step - loss: 3295016124416.0000 - mean_squared_error: 3295016124416.0000 - val_loss: 3452865085440.0000 - val_mean_squared_error: 3452865085440.0000\n",
            "Epoch 63/100\n",
            "\u001b[1m22/22\u001b[0m \u001b[32m━━━━━━━━━━━━━━━━━━━━\u001b[0m\u001b[37m\u001b[0m \u001b[1m1s\u001b[0m 29ms/step - loss: 2853014601728.0000 - mean_squared_error: 2853014601728.0000 - val_loss: 3467586043904.0000 - val_mean_squared_error: 3467586043904.0000\n",
            "Epoch 64/100\n",
            "\u001b[1m22/22\u001b[0m \u001b[32m━━━━━━━━━━━━━━━━━━━━\u001b[0m\u001b[37m\u001b[0m \u001b[1m1s\u001b[0m 14ms/step - loss: 3475310641152.0000 - mean_squared_error: 3475310641152.0000 - val_loss: 3401697198080.0000 - val_mean_squared_error: 3401697198080.0000\n",
            "Epoch 65/100\n",
            "\u001b[1m22/22\u001b[0m \u001b[32m━━━━━━━━━━━━━━━━━━━━\u001b[0m\u001b[37m\u001b[0m \u001b[1m1s\u001b[0m 25ms/step - loss: 2793111814144.0000 - mean_squared_error: 2793111814144.0000 - val_loss: 3458529230848.0000 - val_mean_squared_error: 3458529230848.0000\n",
            "Epoch 66/100\n",
            "\u001b[1m22/22\u001b[0m \u001b[32m━━━━━━━━━━━━━━━━━━━━\u001b[0m\u001b[37m\u001b[0m \u001b[1m1s\u001b[0m 12ms/step - loss: 2735647752192.0000 - mean_squared_error: 2735647752192.0000 - val_loss: 3409341841408.0000 - val_mean_squared_error: 3409341841408.0000\n",
            "Epoch 67/100\n",
            "\u001b[1m22/22\u001b[0m \u001b[32m━━━━━━━━━━━━━━━━━━━━\u001b[0m\u001b[37m\u001b[0m \u001b[1m1s\u001b[0m 13ms/step - loss: 2855319371776.0000 - mean_squared_error: 2855319371776.0000 - val_loss: 3422934532096.0000 - val_mean_squared_error: 3422934532096.0000\n",
            "Epoch 68/100\n",
            "\u001b[1m22/22\u001b[0m \u001b[32m━━━━━━━━━━━━━━━━━━━━\u001b[0m\u001b[37m\u001b[0m \u001b[1m0s\u001b[0m 14ms/step - loss: 2886512410624.0000 - mean_squared_error: 2886512410624.0000 - val_loss: 3417230278656.0000 - val_mean_squared_error: 3417230278656.0000\n",
            "Epoch 69/100\n",
            "\u001b[1m22/22\u001b[0m \u001b[32m━━━━━━━━━━━━━━━━━━━━\u001b[0m\u001b[37m\u001b[0m \u001b[1m1s\u001b[0m 15ms/step - loss: 3411176325120.0000 - mean_squared_error: 3411176325120.0000 - val_loss: 3418550960128.0000 - val_mean_squared_error: 3418550960128.0000\n",
            "Epoch 70/100\n",
            "\u001b[1m22/22\u001b[0m \u001b[32m━━━━━━━━━━━━━━━━━━━━\u001b[0m\u001b[37m\u001b[0m \u001b[1m1s\u001b[0m 18ms/step - loss: 2578711052288.0000 - mean_squared_error: 2578711052288.0000 - val_loss: 3431581614080.0000 - val_mean_squared_error: 3431581614080.0000\n",
            "Epoch 71/100\n",
            "\u001b[1m22/22\u001b[0m \u001b[32m━━━━━━━━━━━━━━━━━━━━\u001b[0m\u001b[37m\u001b[0m \u001b[1m1s\u001b[0m 17ms/step - loss: 2988308168704.0000 - mean_squared_error: 2988308168704.0000 - val_loss: 3530959093760.0000 - val_mean_squared_error: 3530959093760.0000\n",
            "Epoch 72/100\n",
            "\u001b[1m22/22\u001b[0m \u001b[32m━━━━━━━━━━━━━━━━━━━━\u001b[0m\u001b[37m\u001b[0m \u001b[1m1s\u001b[0m 19ms/step - loss: 3432798486528.0000 - mean_squared_error: 3432798486528.0000 - val_loss: 3403132174336.0000 - val_mean_squared_error: 3403132174336.0000\n",
            "Epoch 73/100\n",
            "\u001b[1m22/22\u001b[0m \u001b[32m━━━━━━━━━━━━━━━━━━━━\u001b[0m\u001b[37m\u001b[0m \u001b[1m0s\u001b[0m 12ms/step - loss: 3142756597760.0000 - mean_squared_error: 3142756597760.0000 - val_loss: 3462405554176.0000 - val_mean_squared_error: 3462405554176.0000\n",
            "Epoch 74/100\n",
            "\u001b[1m22/22\u001b[0m \u001b[32m━━━━━━━━━━━━━━━━━━━━\u001b[0m\u001b[37m\u001b[0m \u001b[1m1s\u001b[0m 17ms/step - loss: 3054078787584.0000 - mean_squared_error: 3054078787584.0000 - val_loss: 3403208196096.0000 - val_mean_squared_error: 3403208196096.0000\n",
            "Epoch 75/100\n",
            "\u001b[1m22/22\u001b[0m \u001b[32m━━━━━━━━━━━━━━━━━━━━\u001b[0m\u001b[37m\u001b[0m \u001b[1m0s\u001b[0m 9ms/step - loss: 2948027908096.0000 - mean_squared_error: 2948027908096.0000 - val_loss: 3570072551424.0000 - val_mean_squared_error: 3570072551424.0000\n",
            "Epoch 76/100\n",
            "\u001b[1m22/22\u001b[0m \u001b[32m━━━━━━━━━━━━━━━━━━━━\u001b[0m\u001b[37m\u001b[0m \u001b[1m0s\u001b[0m 6ms/step - loss: 3395062071296.0000 - mean_squared_error: 3395062071296.0000 - val_loss: 3402031693824.0000 - val_mean_squared_error: 3402031693824.0000\n",
            "Epoch 77/100\n",
            "\u001b[1m22/22\u001b[0m \u001b[32m━━━━━━━━━━━━━━━━━━━━\u001b[0m\u001b[37m\u001b[0m \u001b[1m0s\u001b[0m 11ms/step - loss: 2736273489920.0000 - mean_squared_error: 2736273489920.0000 - val_loss: 3437070123008.0000 - val_mean_squared_error: 3437070123008.0000\n",
            "Epoch 78/100\n",
            "\u001b[1m22/22\u001b[0m \u001b[32m━━━━━━━━━━━━━━━━━━━━\u001b[0m\u001b[37m\u001b[0m \u001b[1m1s\u001b[0m 10ms/step - loss: 2653375430656.0000 - mean_squared_error: 2653375430656.0000 - val_loss: 3487360090112.0000 - val_mean_squared_error: 3487360090112.0000\n",
            "Epoch 79/100\n",
            "\u001b[1m22/22\u001b[0m \u001b[32m━━━━━━━━━━━━━━━━━━━━\u001b[0m\u001b[37m\u001b[0m \u001b[1m0s\u001b[0m 17ms/step - loss: 2766896365568.0000 - mean_squared_error: 2766896365568.0000 - val_loss: 3431289585664.0000 - val_mean_squared_error: 3431289585664.0000\n",
            "Epoch 80/100\n",
            "\u001b[1m22/22\u001b[0m \u001b[32m━━━━━━━━━━━━━━━━━━━━\u001b[0m\u001b[37m\u001b[0m \u001b[1m1s\u001b[0m 20ms/step - loss: 2931215040512.0000 - mean_squared_error: 2931215040512.0000 - val_loss: 3401526804480.0000 - val_mean_squared_error: 3401526804480.0000\n",
            "Epoch 81/100\n",
            "\u001b[1m22/22\u001b[0m \u001b[32m━━━━━━━━━━━━━━━━━━━━\u001b[0m\u001b[37m\u001b[0m \u001b[1m1s\u001b[0m 19ms/step - loss: 3190450028544.0000 - mean_squared_error: 3190450028544.0000 - val_loss: 3401479880704.0000 - val_mean_squared_error: 3401479880704.0000\n",
            "Epoch 82/100\n",
            "\u001b[1m22/22\u001b[0m \u001b[32m━━━━━━━━━━━━━━━━━━━━\u001b[0m\u001b[37m\u001b[0m \u001b[1m1s\u001b[0m 18ms/step - loss: 2431714852864.0000 - mean_squared_error: 2431714852864.0000 - val_loss: 3488909099008.0000 - val_mean_squared_error: 3488909099008.0000\n",
            "Epoch 83/100\n",
            "\u001b[1m22/22\u001b[0m \u001b[32m━━━━━━━━━━━━━━━━━━━━\u001b[0m\u001b[37m\u001b[0m \u001b[1m1s\u001b[0m 15ms/step - loss: 3256807849984.0000 - mean_squared_error: 3256807849984.0000 - val_loss: 3402153328640.0000 - val_mean_squared_error: 3402153328640.0000\n",
            "Epoch 84/100\n",
            "\u001b[1m22/22\u001b[0m \u001b[32m━━━━━━━━━━━━━━━━━━━━\u001b[0m\u001b[37m\u001b[0m \u001b[1m1s\u001b[0m 11ms/step - loss: 2445019185152.0000 - mean_squared_error: 2445019185152.0000 - val_loss: 3529123561472.0000 - val_mean_squared_error: 3529123561472.0000\n",
            "Epoch 85/100\n",
            "\u001b[1m22/22\u001b[0m \u001b[32m━━━━━━━━━━━━━━━━━━━━\u001b[0m\u001b[37m\u001b[0m \u001b[1m0s\u001b[0m 9ms/step - loss: 3166390976512.0000 - mean_squared_error: 3166390976512.0000 - val_loss: 3404203819008.0000 - val_mean_squared_error: 3404203819008.0000\n",
            "Epoch 86/100\n",
            "\u001b[1m22/22\u001b[0m \u001b[32m━━━━━━━━━━━━━━━━━━━━\u001b[0m\u001b[37m\u001b[0m \u001b[1m0s\u001b[0m 10ms/step - loss: 3190229565440.0000 - mean_squared_error: 3190229565440.0000 - val_loss: 3425165115392.0000 - val_mean_squared_error: 3425165115392.0000\n",
            "Epoch 87/100\n",
            "\u001b[1m22/22\u001b[0m \u001b[32m━━━━━━━━━━━━━━━━━━━━\u001b[0m\u001b[37m\u001b[0m \u001b[1m0s\u001b[0m 6ms/step - loss: 2751664750592.0000 - mean_squared_error: 2751664750592.0000 - val_loss: 3699416236032.0000 - val_mean_squared_error: 3699416236032.0000\n",
            "Epoch 88/100\n",
            "\u001b[1m22/22\u001b[0m \u001b[32m━━━━━━━━━━━━━━━━━━━━\u001b[0m\u001b[37m\u001b[0m \u001b[1m0s\u001b[0m 5ms/step - loss: 3413053800448.0000 - mean_squared_error: 3413053800448.0000 - val_loss: 3403464572928.0000 - val_mean_squared_error: 3403464572928.0000\n",
            "Epoch 89/100\n",
            "\u001b[1m22/22\u001b[0m \u001b[32m━━━━━━━━━━━━━━━━━━━━\u001b[0m\u001b[37m\u001b[0m \u001b[1m0s\u001b[0m 5ms/step - loss: 2967914151936.0000 - mean_squared_error: 2967914151936.0000 - val_loss: 3411195723776.0000 - val_mean_squared_error: 3411195723776.0000\n",
            "Epoch 90/100\n",
            "\u001b[1m22/22\u001b[0m \u001b[32m━━━━━━━━━━━━━━━━━━━━\u001b[0m\u001b[37m\u001b[0m \u001b[1m0s\u001b[0m 5ms/step - loss: 3131860844544.0000 - mean_squared_error: 3131860844544.0000 - val_loss: 3403953471488.0000 - val_mean_squared_error: 3403953471488.0000\n",
            "Epoch 91/100\n",
            "\u001b[1m22/22\u001b[0m \u001b[32m━━━━━━━━━━━━━━━━━━━━\u001b[0m\u001b[37m\u001b[0m \u001b[1m0s\u001b[0m 5ms/step - loss: 2977927528448.0000 - mean_squared_error: 2977927528448.0000 - val_loss: 3402457153536.0000 - val_mean_squared_error: 3402457153536.0000\n",
            "Epoch 92/100\n",
            "\u001b[1m22/22\u001b[0m \u001b[32m━━━━━━━━━━━━━━━━━━━━\u001b[0m\u001b[37m\u001b[0m \u001b[1m0s\u001b[0m 5ms/step - loss: 3030145040384.0000 - mean_squared_error: 3030145040384.0000 - val_loss: 3526323601408.0000 - val_mean_squared_error: 3526323601408.0000\n",
            "Epoch 93/100\n",
            "\u001b[1m22/22\u001b[0m \u001b[32m━━━━━━━━━━━━━━━━━━━━\u001b[0m\u001b[37m\u001b[0m \u001b[1m0s\u001b[0m 6ms/step - loss: 2621568974848.0000 - mean_squared_error: 2621568974848.0000 - val_loss: 3434573201408.0000 - val_mean_squared_error: 3434573201408.0000\n",
            "Epoch 94/100\n",
            "\u001b[1m22/22\u001b[0m \u001b[32m━━━━━━━━━━━━━━━━━━━━\u001b[0m\u001b[37m\u001b[0m \u001b[1m0s\u001b[0m 5ms/step - loss: 3001755893760.0000 - mean_squared_error: 3001755893760.0000 - val_loss: 3486924668928.0000 - val_mean_squared_error: 3486924668928.0000\n",
            "Epoch 95/100\n",
            "\u001b[1m22/22\u001b[0m \u001b[32m━━━━━━━━━━━━━━━━━━━━\u001b[0m\u001b[37m\u001b[0m \u001b[1m0s\u001b[0m 5ms/step - loss: 2991403565056.0000 - mean_squared_error: 2991403565056.0000 - val_loss: 3548171206656.0000 - val_mean_squared_error: 3548171206656.0000\n",
            "Epoch 96/100\n",
            "\u001b[1m22/22\u001b[0m \u001b[32m━━━━━━━━━━━━━━━━━━━━\u001b[0m\u001b[37m\u001b[0m \u001b[1m0s\u001b[0m 5ms/step - loss: 3119030730752.0000 - mean_squared_error: 3119030730752.0000 - val_loss: 3476583350272.0000 - val_mean_squared_error: 3476583350272.0000\n",
            "Epoch 97/100\n",
            "\u001b[1m22/22\u001b[0m \u001b[32m━━━━━━━━━━━━━━━━━━━━\u001b[0m\u001b[37m\u001b[0m \u001b[1m0s\u001b[0m 5ms/step - loss: 3251498647552.0000 - mean_squared_error: 3251498647552.0000 - val_loss: 3410501042176.0000 - val_mean_squared_error: 3410501042176.0000\n",
            "Epoch 98/100\n",
            "\u001b[1m22/22\u001b[0m \u001b[32m━━━━━━━━━━━━━━━━━━━━\u001b[0m\u001b[37m\u001b[0m \u001b[1m0s\u001b[0m 6ms/step - loss: 2714441613312.0000 - mean_squared_error: 2714441613312.0000 - val_loss: 3498194763776.0000 - val_mean_squared_error: 3498194763776.0000\n",
            "Epoch 99/100\n",
            "\u001b[1m22/22\u001b[0m \u001b[32m━━━━━━━━━━━━━━━━━━━━\u001b[0m\u001b[37m\u001b[0m \u001b[1m0s\u001b[0m 6ms/step - loss: 2792949809152.0000 - mean_squared_error: 2792949809152.0000 - val_loss: 3504649011200.0000 - val_mean_squared_error: 3504649011200.0000\n",
            "Epoch 100/100\n",
            "\u001b[1m22/22\u001b[0m \u001b[32m━━━━━━━━━━━━━━━━━━━━\u001b[0m\u001b[37m\u001b[0m \u001b[1m0s\u001b[0m 7ms/step - loss: 3385527894016.0000 - mean_squared_error: 3385527894016.0000 - val_loss: 3404479594496.0000 - val_mean_squared_error: 3404479594496.0000\n"
          ]
        }
      ]
    },
    {
      "cell_type": "code",
      "source": [
        "model.save(\"/content/housing_price_model.h5\")"
      ],
      "metadata": {
        "id": "sPr-zWVVhfG5",
        "outputId": "1057682f-05d7-4fb2-f967-4f3649cf7087",
        "colab": {
          "base_uri": "https://localhost:8080/"
        }
      },
      "execution_count": 13,
      "outputs": [
        {
          "output_type": "stream",
          "name": "stderr",
          "text": [
            "WARNING:absl:You are saving your model as an HDF5 file via `model.save()` or `keras.saving.save_model(model)`. This file format is considered legacy. We recommend using instead the native Keras format, e.g. `model.save('my_model.keras')` or `keras.saving.save_model(model, 'my_model.keras')`. \n"
          ]
        }
      ]
    },
    {
      "cell_type": "code",
      "source": [
        "selected_numerical_features = ['area', 'bedrooms', 'bathrooms']\n",
        "numerical_features_indices = [X.columns.get_loc(col) for col in selected_numerical_features]\n",
        "\n",
        "new_scaler = StandardScaler()\n",
        "\n",
        "X_train_selected = X_train[selected_numerical_features]\n",
        "X_test_selected = X_test[selected_numerical_features]\n",
        "\n",
        "X_train_selected = new_scaler.fit_transform(X_train_selected)\n",
        "X_test_selected = new_scaler.transform(X_test_selected)\n",
        "\n",
        "X_train.loc[:, selected_numerical_features] = X_train_selected\n",
        "X_test.loc[:, selected_numerical_features] = X_test_selected\n",
        "\n",
        "\n",
        "new_data = pd.DataFrame([[1500, 3, 2]], columns=selected_numerical_features)\n",
        "\n",
        "\n",
        "new_data_scaled = new_scaler.transform(new_data)"
      ],
      "metadata": {
        "id": "SZmv5LOShhkJ"
      },
      "execution_count": 15,
      "outputs": []
    }
  ]
}